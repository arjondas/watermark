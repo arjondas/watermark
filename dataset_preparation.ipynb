{
 "metadata": {
  "language_info": {
   "codemirror_mode": {
    "name": "ipython",
    "version": 3
   },
   "file_extension": ".py",
   "mimetype": "text/x-python",
   "name": "python",
   "nbconvert_exporter": "python",
   "pygments_lexer": "ipython3",
   "version": "3.7.7-final"
  },
  "orig_nbformat": 2,
  "kernelspec": {
   "name": "python3",
   "display_name": "Python 3",
   "language": "python"
  }
 },
 "nbformat": 4,
 "nbformat_minor": 2,
 "cells": [
  {
   "source": [
    "## **Dataset Download**"
   ],
   "cell_type": "markdown",
   "metadata": {}
  },
  {
   "cell_type": "code",
   "execution_count": null,
   "metadata": {},
   "outputs": [],
   "source": [
    "!pip install kaggle\n",
    "from google.colab import files\n",
    "files.upload()\n",
    "!mkdir ~/.kaggle\n",
    "!cp kaggle.json ~/.kaggle/\n",
    "!chmod 600 ~/.kaggle/kaggle.json\n",
    "!kaggle competitions download -c tensorflow-speech-recognition-challenge\n",
    "!7z x train.7z"
   ]
  },
  {
   "cell_type": "code",
   "execution_count": null,
   "metadata": {},
   "outputs": [],
   "source": [
    "labels = [\n",
    "    'zero', 'one', 'two', 'three', 'four', 'five', 'six', 'seven', 'eight', 'nine'\n",
    "]\n",
    "train_audio_path = './train/audio/'\n",
    "\n",
    "all_wave = []\n",
    "all_label = []\n",
    "for label in tqdm(labels):\n",
    "    waves = [f for f in os.listdir(train_audio_path + label) if f.endswith('.wav')]\n",
    "    i = 0\n",
    "    for wav in waves:\n",
    "        i += 1\n",
    "        samples, sample_rate = librosa.load(train_audio_path + '/' + label + '/' + wav, sr = 16000)\n",
    "        samples = librosa.resample(samples, sample_rate, 8192)\n",
    "        if(len(samples)== 8192) :\n",
    "            all_wave.append(samples)\n",
    "            all_label.append(label)\n",
    "        if i== 10:\n",
    "            break\n",
    "\n",
    "pro_wave = np.array(all_wave).reshape(-1,8192,1)\n",
    "pro_label = np.array(all_label)\n",
    "np.save('waves.npy', pro_wave)\n",
    "np.save('labels.npy', pro_label)\n",
    "np.random.shuffle(pro_wave)"
   ]
  },
  {
   "cell_type": "code",
   "execution_count": null,
   "metadata": {},
   "outputs": [],
   "source": [
    "!wget http://images.cocodataset.org/zips/val2017.zip\n",
    "!unzip val2017.zip\n",
    "\n",
    "from PIL import Image\n",
    "image = Image.open('/content/val2017/000000000139.jpg')\n",
    "print(image.format)\n",
    "print(image.size)\n",
    "print(image.mode)\n",
    "plt.imshow(image)\n",
    "\n",
    "train_img_path = './val2017/'\n",
    "imgs = [f for f in os.listdir(train_img_path) if f.endswith('.jpg')]\n",
    "# all_img = np.empty((len(imgs), 128, 128, 3))\n",
    "all_img = []\n",
    "for i in tqdm(range(len(imgs))):\n",
    "  temp = Image.open(train_img_path + imgs[i])\n",
    "  if(temp.mode == 'RGB'):\n",
    "    temp = temp.resize((128, 128), Image.ANTIALIAS)\n",
    "    temp = np.array(temp)\n",
    "    temp = temp.astype(np.float32) / 255.0 \n",
    "    all_img.append(temp)"
   ]
  },
  {
   "cell_type": "code",
   "execution_count": null,
   "metadata": {},
   "outputs": [],
   "source": [
    "import random\n",
    "random.seed(1)\n",
    "all_img = all_img + random.sample(all_img, 10)\n",
    "random.shuffle(all_img)\n",
    "images = np.array(all_img)\n",
    "np.save('img_dataset.npy', images)"
   ]
  },
  {
   "source": [
    "## *Test Dataset*"
   ],
   "cell_type": "markdown",
   "metadata": {}
  },
  {
   "cell_type": "code",
   "execution_count": 2,
   "metadata": {},
   "outputs": [],
   "source": [
    "class DataGenerator(object):\n",
    "  def __init__(self, batch_size=32, seed=999):\n",
    "    np.random.seed(seed)\n",
    "    self.batch_size = batch_size\n",
    "    self.audio_data = np.load('waves.npy')\n",
    "    np.random.shuffle(self.audio_data)\n",
    "    self.img_data = np.load('img_dataset.npy')\n",
    "    self.img_data = self.img_data.astype(np.float32) / 255.0\n",
    "    np.random.shuffle(self.img_data)\n",
    "  \n",
    "  def sample_batch(self):\n",
    "    img_batch = np.random.choice(self.img_data.shape[0], self.batch_size, replace=False)\n",
    "    img_batch = self.img_data[img_batch]\n",
    "    audio_batch = np.random.choice(self.audio_data.shape[0], self.batch_size, replace=False)\n",
    "    audio_batch = self.audio_data[audio_batch]\n",
    "    return img_batch, audio_batch"
   ]
  },
  {
   "cell_type": "code",
   "execution_count": null,
   "metadata": {},
   "outputs": [],
   "source": [
    "generator = DataGenerator()"
   ]
  }
 ]
}